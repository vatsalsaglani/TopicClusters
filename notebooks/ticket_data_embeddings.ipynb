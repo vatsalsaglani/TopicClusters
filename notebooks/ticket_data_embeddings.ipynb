{
 "cells": [
  {
   "cell_type": "code",
   "execution_count": 1,
   "metadata": {},
   "outputs": [],
   "source": [
    "import os\n",
    "import tqdm\n",
    "from transformers import AutoTokenizer, AutoModel\n",
    "import torch\n",
    "import pickle\n",
    "from sklearn.metrics.pairwise import cosine_similarity"
   ]
  },
  {
   "cell_type": "code",
   "execution_count": 2,
   "metadata": {},
   "outputs": [],
   "source": [
    "def load_pickle(filepath):\n",
    "    with open(filepath, \"rb\") as fp:\n",
    "        return pickle.load(fp)\n",
    "\n",
    "\n",
    "def save_pickle(filepath, object):\n",
    "    with open(filepath, \"wb\") as fp:\n",
    "        pickle.dump(object, fp)"
   ]
  },
  {
   "cell_type": "code",
   "execution_count": 3,
   "metadata": {},
   "outputs": [],
   "source": [
    "bodyCollection = load_pickle(\"../data/body_collection.pkl\")"
   ]
  },
  {
   "cell_type": "code",
   "execution_count": 4,
   "metadata": {},
   "outputs": [
    {
     "data": {
      "text/plain": [
       "48549"
      ]
     },
     "execution_count": 4,
     "metadata": {},
     "output_type": "execute_result"
    }
   ],
   "source": [
    "len(bodyCollection)"
   ]
  },
  {
   "cell_type": "code",
   "execution_count": 7,
   "metadata": {},
   "outputs": [],
   "source": [
    "_body_collection = bodyCollection[:200]"
   ]
  },
  {
   "cell_type": "code",
   "execution_count": 8,
   "metadata": {},
   "outputs": [],
   "source": [
    "class SentenceEmbedding:\n",
    "    def __init__(self,\n",
    "                 max_len=128,\n",
    "                 batch_size=4,\n",
    "                 model_path=\"sentence-transformers/bert-base-nli-mean-tokens\"):\n",
    "        MODEL = model_path\n",
    "        self.model = AutoModel.from_pretrained(MODEL)\n",
    "        self.tokenizer = AutoTokenizer.from_pretrained(MODEL)\n",
    "        self.batch_size = batch_size\n",
    "        self.max_len = max_len\n",
    "        self.flatten_list = lambda lst: [\n",
    "            item for sublist in lst for item in sublist\n",
    "        ]\n",
    "\n",
    "    def make_batch(self, data):\n",
    "        batches = []\n",
    "        for ix in tqdm.trange(0, len(data), self.batch_size):\n",
    "            if ix + self.batch_size > len(data) - 1:\n",
    "                batch = data[ix:]\n",
    "            else:\n",
    "                batch = [data[_] for _ in range(ix, ix + self.batch_size)]\n",
    "            batches.append(batch)\n",
    "        return batches\n",
    "\n",
    "    def tokenize(self, batch):\n",
    "        # tokens = {\"input_ids\": [], \"attention_mask\": []}\n",
    "        # for sentence in batch:\n",
    "        #     toks = self.tokenizer.encode_plus(\n",
    "        #         sentence,\n",
    "        #         max_length = self.max_len,\n",
    "        #         truncation = True,\n",
    "        #         padding = \"max_length\",\n",
    "        #         return_tensors=\"pt\"\n",
    "        #     )\n",
    "        #     tokens['input_ids'].append(toks['input_ids'][0])\n",
    "        #     tokens['attention_mask'].append(toks['attention_mask'][0])\n",
    "        tokens = self.tokenizer.batch_encode_plus(batch,\n",
    "                                                  return_tensors=\"pt\",\n",
    "                                                  max_length=self.max_len,\n",
    "                                                  padding=True,\n",
    "                                                  truncation=True)\n",
    "\n",
    "        return tokens\n",
    "\n",
    "    def compute_last_hidden_state(self, batch):\n",
    "        tokens = self.tokenize(batch)\n",
    "        # print(tokens)\n",
    "        outputs = self.model(**tokens)\n",
    "        return outputs.last_hidden_state, tokens\n",
    "\n",
    "    def compute_mean_pooled_embs(self, batch):\n",
    "        last_hidden_state, tokens = self.compute_last_hidden_state(batch)\n",
    "        attention_mask = tokens['attention_mask']\n",
    "        mask = attention_mask.unsqueeze(-1).expand(\n",
    "            last_hidden_state.size()).float()\n",
    "        masked_embedding = last_hidden_state * mask\n",
    "        summed = torch.sum(masked_embedding, 1)\n",
    "        summed_mask = torch.clamp(mask.sum(1), min=1e-9)\n",
    "        mean_pooled = summed / summed_mask\n",
    "        return mean_pooled, tokens\n",
    "\n",
    "    def compute_embeddings(self, data):\n",
    "\n",
    "        batches = self.make_batch(data)\n",
    "        token_embeddings = {\"embeddings\": [], \"tokens\": []}\n",
    "        for ix in tqdm.trange(len(batches)):\n",
    "            mean_pooled, tokens = self.compute_mean_pooled_embs(batches[ix])\n",
    "            token_embeddings['embeddings'].append(mean_pooled)\n",
    "            token_embeddings['tokens'].append(tokens)\n",
    "        return token_embeddings\n",
    "\n",
    "    def embedding_matrix(self, data):\n",
    "        token_embeddings = self.compute_embeddings(data)\n",
    "        embeddings = torch.stack(\n",
    "            self.flatten_list(token_embeddings['embeddings']))\n",
    "        return embeddings.detach().numpy()\n"
   ]
  },
  {
   "cell_type": "code",
   "execution_count": 9,
   "metadata": {},
   "outputs": [],
   "source": [
    "emb = SentenceEmbedding()"
   ]
  },
  {
   "cell_type": "code",
   "execution_count": 10,
   "metadata": {},
   "outputs": [
    {
     "name": "stderr",
     "output_type": "stream",
     "text": [
      "100%|██████████| 50/50 [00:00<00:00, 144431.96it/s]\n",
      "100%|██████████| 50/50 [00:43<00:00,  1.15it/s]\n"
     ]
    }
   ],
   "source": [
    "embeddings = emb.embedding_matrix(_body_collection)"
   ]
  },
  {
   "cell_type": "code",
   "execution_count": 15,
   "metadata": {},
   "outputs": [
    {
     "data": {
      "text/plain": [
       "numpy.ndarray"
      ]
     },
     "execution_count": 15,
     "metadata": {},
     "output_type": "execute_result"
    }
   ],
   "source": [
    "type(embeddings)"
   ]
  },
  {
   "cell_type": "code",
   "execution_count": 16,
   "metadata": {},
   "outputs": [
    {
     "data": {
      "text/plain": [
       "(20, 768)"
      ]
     },
     "execution_count": 16,
     "metadata": {},
     "output_type": "execute_result"
    }
   ],
   "source": [
    "embeddings.shape"
   ]
  },
  {
   "cell_type": "code",
   "execution_count": 11,
   "metadata": {},
   "outputs": [],
   "source": [
    "import umap"
   ]
  },
  {
   "cell_type": "code",
   "execution_count": 12,
   "metadata": {},
   "outputs": [],
   "source": [
    "# umap_embeddings = umap.UMAP(n_neighbors=2, n_components=2, metric='cosine').fit_transform(mean_pooled)\n",
    "umap_embs = umap.UMAP(n_neighbors=10, n_components=3,\n",
    "                      metric='cosine').fit_transform(embeddings)\n"
   ]
  },
  {
   "cell_type": "code",
   "execution_count": 13,
   "metadata": {},
   "outputs": [
    {
     "data": {
      "text/plain": [
       "(200, 3)"
      ]
     },
     "execution_count": 13,
     "metadata": {},
     "output_type": "execute_result"
    }
   ],
   "source": [
    "umap_embs.shape"
   ]
  },
  {
   "cell_type": "code",
   "execution_count": 49,
   "metadata": {},
   "outputs": [],
   "source": [
    "import hdbscan\n",
    "\n",
    "cluster = hdbscan.HDBSCAN(min_cluster_size=4,\n",
    "                          metric='euclidean',\n",
    "                          cluster_selection_method='eom').fit(umap_embs)\n"
   ]
  },
  {
   "cell_type": "code",
   "execution_count": 50,
   "metadata": {},
   "outputs": [
    {
     "data": {
      "text/plain": [
       "array([ 6,  3, -1,  2,  2,  3,  2,  2, -1, -1,  2,  1,  2,  5,  6, -1, -1,\n",
       "        6,  1,  2,  4,  2,  6,  2,  2, -1,  1,  4,  2,  3,  2,  4, -1,  1,\n",
       "       -1,  2,  2,  1,  4, -1,  2,  2,  1,  2, -1,  2,  2,  2,  2,  6,  2,\n",
       "        2,  2,  2,  1,  4,  5, -1,  2,  5, -1, -1,  6, -1,  2,  2,  1,  2,\n",
       "       -1,  2,  6,  2,  4,  2,  2,  4,  2,  2,  2,  2,  2,  6,  2,  2,  2,\n",
       "        6,  1,  2,  5,  2,  1,  2,  2,  2,  2,  2,  4,  4,  2,  2,  2,  1,\n",
       "       -1,  1,  2, -1, -1,  1, -1,  3,  4, -1, -1,  2,  6,  2,  3,  1,  5,\n",
       "        2,  4,  2, -1,  2,  2,  0, -1, -1,  4,  6, -1, -1,  2,  1,  2,  2,\n",
       "        2,  2,  2,  2,  2,  2, -1,  0,  2,  4,  2,  2,  2,  5,  5, -1,  2,\n",
       "        2,  2,  2,  2,  2,  6,  2,  2,  2,  2,  2,  2, -1,  4, -1, -1,  2,\n",
       "        2, -1,  2,  2,  5, -1,  4,  2,  2,  2,  2,  0,  0,  2,  2,  2, -1,\n",
       "       -1,  2,  2,  4, -1,  1,  2,  0,  2, -1,  5,  1,  1])"
      ]
     },
     "execution_count": 50,
     "metadata": {},
     "output_type": "execute_result"
    }
   ],
   "source": [
    "cluster.labels_"
   ]
  },
  {
   "cell_type": "code",
   "execution_count": 51,
   "metadata": {},
   "outputs": [],
   "source": [
    "import matplotlib.pyplot as plt\n",
    "import pandas as pd"
   ]
  },
  {
   "cell_type": "code",
   "execution_count": 52,
   "metadata": {},
   "outputs": [],
   "source": [
    "_2dUmap = umap.UMAP(n_neighbors=10,\n",
    "                    n_components=2,\n",
    "                    min_dist=0.0,\n",
    "                    metric='cosine').fit_transform(embeddings)\n"
   ]
  },
  {
   "cell_type": "code",
   "execution_count": 53,
   "metadata": {},
   "outputs": [
    {
     "data": {
      "text/plain": [
       "(200, 2)"
      ]
     },
     "execution_count": 53,
     "metadata": {},
     "output_type": "execute_result"
    }
   ],
   "source": [
    "_2dUmap.shape"
   ]
  },
  {
   "cell_type": "code",
   "execution_count": 54,
   "metadata": {},
   "outputs": [],
   "source": [
    "result = pd.DataFrame(_2dUmap, columns=['x', 'y'])"
   ]
  },
  {
   "cell_type": "code",
   "execution_count": 55,
   "metadata": {},
   "outputs": [
    {
     "data": {
      "text/html": [
       "<div>\n",
       "<style scoped>\n",
       "    .dataframe tbody tr th:only-of-type {\n",
       "        vertical-align: middle;\n",
       "    }\n",
       "\n",
       "    .dataframe tbody tr th {\n",
       "        vertical-align: top;\n",
       "    }\n",
       "\n",
       "    .dataframe thead th {\n",
       "        text-align: right;\n",
       "    }\n",
       "</style>\n",
       "<table border=\"1\" class=\"dataframe\">\n",
       "  <thead>\n",
       "    <tr style=\"text-align: right;\">\n",
       "      <th></th>\n",
       "      <th>x</th>\n",
       "      <th>y</th>\n",
       "    </tr>\n",
       "  </thead>\n",
       "  <tbody>\n",
       "    <tr>\n",
       "      <th>0</th>\n",
       "      <td>0.048723</td>\n",
       "      <td>6.602735</td>\n",
       "    </tr>\n",
       "    <tr>\n",
       "      <th>1</th>\n",
       "      <td>1.078809</td>\n",
       "      <td>6.032845</td>\n",
       "    </tr>\n",
       "    <tr>\n",
       "      <th>2</th>\n",
       "      <td>0.627714</td>\n",
       "      <td>6.808942</td>\n",
       "    </tr>\n",
       "    <tr>\n",
       "      <th>3</th>\n",
       "      <td>4.516899</td>\n",
       "      <td>6.654786</td>\n",
       "    </tr>\n",
       "    <tr>\n",
       "      <th>4</th>\n",
       "      <td>4.584865</td>\n",
       "      <td>5.151066</td>\n",
       "    </tr>\n",
       "  </tbody>\n",
       "</table>\n",
       "</div>"
      ],
      "text/plain": [
       "          x         y\n",
       "0  0.048723  6.602735\n",
       "1  1.078809  6.032845\n",
       "2  0.627714  6.808942\n",
       "3  4.516899  6.654786\n",
       "4  4.584865  5.151066"
      ]
     },
     "execution_count": 55,
     "metadata": {},
     "output_type": "execute_result"
    }
   ],
   "source": [
    "result.head()"
   ]
  },
  {
   "cell_type": "code",
   "execution_count": 56,
   "metadata": {},
   "outputs": [],
   "source": [
    "result['labels'] = cluster.labels_"
   ]
  },
  {
   "cell_type": "code",
   "execution_count": 57,
   "metadata": {},
   "outputs": [],
   "source": [
    "# fig, ax = plt.subplots(figsize = (20, 10))\n",
    "outliers = result.loc[result.labels == -1, :]\n",
    "clustered = result.loc[result.labels != -1, :]"
   ]
  },
  {
   "cell_type": "code",
   "execution_count": 58,
   "metadata": {},
   "outputs": [
    {
     "data": {
      "text/plain": [
       "<matplotlib.colorbar.Colorbar at 0x7fe36654b510>"
      ]
     },
     "execution_count": 58,
     "metadata": {},
     "output_type": "execute_result"
    },
    {
     "data": {
      "image/png": "[encoded data removed]",
      "text/plain": [
       "<Figure size 1440x720 with 2 Axes>"
      ]
     },
     "metadata": {
      "needs_background": "light"
     },
     "output_type": "display_data"
    }
   ],
   "source": [
    "fig, ax = plt.subplots(figsize=(20, 10))\n",
    "plt.scatter(outliers.x, outliers.y, color='#BDBDBD', s=0.5)\n",
    "plt.scatter(clustered.x, clustered.y, c=clustered.labels, s=0.5, cmap='hsv_r')\n",
    "plt.colorbar()"
   ]
  },
  {
   "cell_type": "code",
   "execution_count": 59,
   "metadata": {},
   "outputs": [
    {
     "data": {
      "text/plain": [
       "['hi since recruiter lead permission approve requisitions makes please make thanks recruiter',\n",
       " 'icon dear please setup icon per icon engineers please let other details needed thanks lead']"
      ]
     },
     "execution_count": 59,
     "metadata": {},
     "output_type": "execute_result"
    }
   ],
   "source": [
    "_body_collection[:2]"
   ]
  },
  {
   "cell_type": "code",
   "execution_count": 60,
   "metadata": {},
   "outputs": [],
   "source": [
    "docs_df = pd.DataFrame(_body_collection, columns=[\"Doc\"])\n",
    "docs_df['Topic'] = cluster.labels_\n",
    "docs_df['Doc_ID'] = range(len(docs_df))"
   ]
  },
  {
   "cell_type": "code",
   "execution_count": 61,
   "metadata": {},
   "outputs": [
    {
     "data": {
      "text/html": [
       "<div>\n",
       "<style scoped>\n",
       "    .dataframe tbody tr th:only-of-type {\n",
       "        vertical-align: middle;\n",
       "    }\n",
       "\n",
       "    .dataframe tbody tr th {\n",
       "        vertical-align: top;\n",
       "    }\n",
       "\n",
       "    .dataframe thead th {\n",
       "        text-align: right;\n",
       "    }\n",
       "</style>\n",
       "<table border=\"1\" class=\"dataframe\">\n",
       "  <thead>\n",
       "    <tr style=\"text-align: right;\">\n",
       "      <th></th>\n",
       "      <th>Doc</th>\n",
       "      <th>Topic</th>\n",
       "      <th>Doc_ID</th>\n",
       "    </tr>\n",
       "  </thead>\n",
       "  <tbody>\n",
       "    <tr>\n",
       "      <th>0</th>\n",
       "      <td>hi since recruiter lead permission approve req...</td>\n",
       "      <td>6</td>\n",
       "      <td>0</td>\n",
       "    </tr>\n",
       "    <tr>\n",
       "      <th>1</th>\n",
       "      <td>icon dear please setup icon per icon engineers...</td>\n",
       "      <td>3</td>\n",
       "      <td>1</td>\n",
       "    </tr>\n",
       "    <tr>\n",
       "      <th>2</th>\n",
       "      <td>work experience user hi work experience studen...</td>\n",
       "      <td>-1</td>\n",
       "      <td>2</td>\n",
       "    </tr>\n",
       "    <tr>\n",
       "      <th>3</th>\n",
       "      <td>requesting meeting hi please help follow equip...</td>\n",
       "      <td>2</td>\n",
       "      <td>3</td>\n",
       "    </tr>\n",
       "    <tr>\n",
       "      <th>4</th>\n",
       "      <td>re expire days hi ask help update passwords co...</td>\n",
       "      <td>2</td>\n",
       "      <td>4</td>\n",
       "    </tr>\n",
       "  </tbody>\n",
       "</table>\n",
       "</div>"
      ],
      "text/plain": [
       "                                                 Doc  Topic  Doc_ID\n",
       "0  hi since recruiter lead permission approve req...      6       0\n",
       "1  icon dear please setup icon per icon engineers...      3       1\n",
       "2  work experience user hi work experience studen...     -1       2\n",
       "3  requesting meeting hi please help follow equip...      2       3\n",
       "4  re expire days hi ask help update passwords co...      2       4"
      ]
     },
     "execution_count": 61,
     "metadata": {},
     "output_type": "execute_result"
    }
   ],
   "source": [
    "docs_df.head()"
   ]
  },
  {
   "cell_type": "code",
   "execution_count": 62,
   "metadata": {},
   "outputs": [],
   "source": [
    "docs_per_topic = docs_df.groupby(['Topic'],\n",
    "                                 as_index=False).agg({'Doc': ' '.join})\n"
   ]
  },
  {
   "cell_type": "code",
   "execution_count": 63,
   "metadata": {},
   "outputs": [
    {
     "data": {
      "text/plain": [
       "pandas.core.frame.DataFrame"
      ]
     },
     "execution_count": 63,
     "metadata": {},
     "output_type": "execute_result"
    }
   ],
   "source": [
    "type(docs_per_topic)"
   ]
  },
  {
   "cell_type": "code",
   "execution_count": 64,
   "metadata": {},
   "outputs": [
    {
     "data": {
      "text/html": [
       "<div>\n",
       "<style scoped>\n",
       "    .dataframe tbody tr th:only-of-type {\n",
       "        vertical-align: middle;\n",
       "    }\n",
       "\n",
       "    .dataframe tbody tr th {\n",
       "        vertical-align: top;\n",
       "    }\n",
       "\n",
       "    .dataframe thead th {\n",
       "        text-align: right;\n",
       "    }\n",
       "</style>\n",
       "<table border=\"1\" class=\"dataframe\">\n",
       "  <thead>\n",
       "    <tr style=\"text-align: right;\">\n",
       "      <th></th>\n",
       "      <th>Topic</th>\n",
       "      <th>Doc</th>\n",
       "    </tr>\n",
       "  </thead>\n",
       "  <tbody>\n",
       "    <tr>\n",
       "      <th>0</th>\n",
       "      <td>-1</td>\n",
       "      <td>work experience user hi work experience studen...</td>\n",
       "    </tr>\n",
       "    <tr>\n",
       "      <th>1</th>\n",
       "      <td>0</td>\n",
       "      <td>maternity leaver form hello please fill matern...</td>\n",
       "    </tr>\n",
       "    <tr>\n",
       "      <th>2</th>\n",
       "      <td>1</td>\n",
       "      <td>connected rebuild hi please provide order debu...</td>\n",
       "    </tr>\n",
       "    <tr>\n",
       "      <th>3</th>\n",
       "      <td>2</td>\n",
       "      <td>requesting meeting hi please help follow equip...</td>\n",
       "    </tr>\n",
       "    <tr>\n",
       "      <th>4</th>\n",
       "      <td>3</td>\n",
       "      <td>icon dear please setup icon per icon engineers...</td>\n",
       "    </tr>\n",
       "  </tbody>\n",
       "</table>\n",
       "</div>"
      ],
      "text/plain": [
       "   Topic                                                Doc\n",
       "0     -1  work experience user hi work experience studen...\n",
       "1      0  maternity leaver form hello please fill matern...\n",
       "2      1  connected rebuild hi please provide order debu...\n",
       "3      2  requesting meeting hi please help follow equip...\n",
       "4      3  icon dear please setup icon per icon engineers..."
      ]
     },
     "execution_count": 64,
     "metadata": {},
     "output_type": "execute_result"
    }
   ],
   "source": [
    "docs_per_topic.head()"
   ]
  },
  {
   "cell_type": "code",
   "execution_count": 65,
   "metadata": {},
   "outputs": [],
   "source": [
    "import numpy as np\n",
    "from sklearn.feature_extraction.text import CountVectorizer\n",
    "\n",
    "\n",
    "def c_tf_idf(documents, m, ngram_range=(1, 1)):\n",
    "\n",
    "    count = CountVectorizer(ngram_range=ngram_range,\n",
    "                            stop_words=\"english\").fit(documents)\n",
    "    t = count.transform(documents).toarray()\n",
    "    w = t.sum(axis=1)\n",
    "    tf = np.divide(t.T, w)\n",
    "    sum_t = t.sum(axis=0)\n",
    "    idf = np.log(np.divide(m, sum_t)).reshape(-1, 1)\n",
    "    tf_idf = np.multiply(tf, idf)\n",
    "    return tf_idf, count"
   ]
  },
  {
   "cell_type": "code",
   "execution_count": 66,
   "metadata": {},
   "outputs": [],
   "source": [
    "tf_idf, count = c_tf_idf(docs_per_topic.Doc.values, m=len(_body_collection))"
   ]
  },
  {
   "cell_type": "code",
   "execution_count": 67,
   "metadata": {},
   "outputs": [
    {
     "data": {
      "text/plain": [
       "(array([[0.        , 0.        , 0.        , ..., 0.        , 0.        ,\n",
       "         0.        ],\n",
       "        [0.        , 0.        , 0.        , ..., 0.        , 0.        ,\n",
       "         0.        ],\n",
       "        [0.        , 0.        , 0.        , ..., 0.        , 0.        ,\n",
       "         0.        ],\n",
       "        ...,\n",
       "        [0.        , 0.        , 0.01042976, ..., 0.        , 0.        ,\n",
       "         0.        ],\n",
       "        [0.        , 0.        , 0.        , ..., 0.02014569, 0.        ,\n",
       "         0.        ],\n",
       "        [0.        , 0.        , 0.        , ..., 0.        , 0.        ,\n",
       "         0.        ]]),\n",
       " CountVectorizer(stop_words='english'))"
      ]
     },
     "execution_count": 67,
     "metadata": {},
     "output_type": "execute_result"
    }
   ],
   "source": [
    "tf_idf, count"
   ]
  },
  {
   "cell_type": "code",
   "execution_count": 68,
   "metadata": {},
   "outputs": [],
   "source": [
    "def extract_top_n_words_per_topic(tf_idf, count, docs_per_topic, n=20):\n",
    "    words = count.get_feature_names()\n",
    "    labels = list(docs_per_topic.Topic)\n",
    "    tf_idf_transposed = tf_idf.T\n",
    "    indices = tf_idf_transposed.argsort()[:, -n:]\n",
    "    top_n_words = {\n",
    "        label: [(words[j], tf_idf_transposed[i][j]) for j in indices[i]][::-1]\n",
    "        for i, label in enumerate(labels)\n",
    "    }\n",
    "    return top_n_words\n"
   ]
  },
  {
   "cell_type": "code",
   "execution_count": 69,
   "metadata": {},
   "outputs": [],
   "source": [
    "def extract_topic_sizes(df):\n",
    "    topic_sizes = (df.groupby(['Topic']).Doc.count().reset_index().rename(\n",
    "        {\n",
    "            \"Topic\": \"Topic\",\n",
    "            \"Doc\": \"Size\"\n",
    "        }, axis='columns').sort_values(\"Size\", ascending=False))\n",
    "    return topic_sizes"
   ]
  },
  {
   "cell_type": "code",
   "execution_count": 70,
   "metadata": {},
   "outputs": [],
   "source": [
    "top_n_words = extract_top_n_words_per_topic(tf_idf, count, docs_per_topic, n = 20)"
   ]
  },
  {
   "cell_type": "code",
   "execution_count": 71,
   "metadata": {},
   "outputs": [],
   "source": [
    "topic_sizes = extract_topic_sizes(docs_df)"
   ]
  },
  {
   "cell_type": "code",
   "execution_count": 72,
   "metadata": {},
   "outputs": [
    {
     "data": {
      "text/html": [
       "<div>\n",
       "<style scoped>\n",
       "    .dataframe tbody tr th:only-of-type {\n",
       "        vertical-align: middle;\n",
       "    }\n",
       "\n",
       "    .dataframe tbody tr th {\n",
       "        vertical-align: top;\n",
       "    }\n",
       "\n",
       "    .dataframe thead th {\n",
       "        text-align: right;\n",
       "    }\n",
       "</style>\n",
       "<table border=\"1\" class=\"dataframe\">\n",
       "  <thead>\n",
       "    <tr style=\"text-align: right;\">\n",
       "      <th></th>\n",
       "      <th>Topic</th>\n",
       "      <th>Size</th>\n",
       "    </tr>\n",
       "  </thead>\n",
       "  <tbody>\n",
       "    <tr>\n",
       "      <th>3</th>\n",
       "      <td>2</td>\n",
       "      <td>98</td>\n",
       "    </tr>\n",
       "    <tr>\n",
       "      <th>0</th>\n",
       "      <td>-1</td>\n",
       "      <td>37</td>\n",
       "    </tr>\n",
       "    <tr>\n",
       "      <th>2</th>\n",
       "      <td>1</td>\n",
       "      <td>18</td>\n",
       "    </tr>\n",
       "    <tr>\n",
       "      <th>5</th>\n",
       "      <td>4</td>\n",
       "      <td>16</td>\n",
       "    </tr>\n",
       "    <tr>\n",
       "      <th>7</th>\n",
       "      <td>6</td>\n",
       "      <td>12</td>\n",
       "    </tr>\n",
       "    <tr>\n",
       "      <th>6</th>\n",
       "      <td>5</td>\n",
       "      <td>9</td>\n",
       "    </tr>\n",
       "    <tr>\n",
       "      <th>1</th>\n",
       "      <td>0</td>\n",
       "      <td>5</td>\n",
       "    </tr>\n",
       "    <tr>\n",
       "      <th>4</th>\n",
       "      <td>3</td>\n",
       "      <td>5</td>\n",
       "    </tr>\n",
       "  </tbody>\n",
       "</table>\n",
       "</div>"
      ],
      "text/plain": [
       "   Topic  Size\n",
       "3      2    98\n",
       "0     -1    37\n",
       "2      1    18\n",
       "5      4    16\n",
       "7      6    12\n",
       "6      5     9\n",
       "1      0     5\n",
       "4      3     5"
      ]
     },
     "execution_count": 72,
     "metadata": {},
     "output_type": "execute_result"
    }
   ],
   "source": [
    "topic_sizes.head(10)"
   ]
  },
  {
   "cell_type": "code",
   "execution_count": 73,
   "metadata": {},
   "outputs": [
    {
     "data": {
      "text/plain": [
       "[('friday', 0.013407088898021474),\n",
       " ('best', 0.013201243836492998),\n",
       " ('information', 0.012569145841895132),\n",
       " ('leave', 0.012569145841895132),\n",
       " ('annual', 0.011885239721535412),\n",
       " ('pm', 0.011462073264812083),\n",
       " ('help', 0.011122282747417014),\n",
       " ('cards', 0.011101977158247341),\n",
       " ('details', 0.010987547328086187),\n",
       " ('hi', 0.010740967572076302)]"
      ]
     },
     "execution_count": 73,
     "metadata": {},
     "output_type": "execute_result"
    }
   ],
   "source": [
    "top_n_words[2][:10]"
   ]
  },
  {
   "cell_type": "code",
   "execution_count": 75,
   "metadata": {},
   "outputs": [
    {
     "data": {
      "text/plain": [
       "[('maternity', 0.6992336767430581),\n",
       " ('form', 0.3144830133243647),\n",
       " ('leaver', 0.26944486556672964),\n",
       " ('ca', 0.1972338173209387),\n",
       " ('calculator', 0.12321668294297759),\n",
       " ('exact', 0.12321668294297759),\n",
       " ('cum', 0.12321668294297759),\n",
       " ('administration', 0.1070969810694905),\n",
       " ('card', 0.10482767110812156),\n",
       " ('return', 0.08154785807720888)]"
      ]
     },
     "execution_count": 75,
     "metadata": {},
     "output_type": "execute_result"
    }
   ],
   "source": [
    "top_n_words[0][:10]"
   ]
  },
  {
   "cell_type": "code",
   "execution_count": 76,
   "metadata": {},
   "outputs": [
    {
     "data": {
      "text/plain": [
       "[('reports', 0.0811306879370536),\n",
       " ('developer', 0.07033022134600118),\n",
       " ('expenditure', 0.06440797462920408),\n",
       " ('amended', 0.06440797462920408),\n",
       " ('types', 0.06440797462920408),\n",
       " ('owners', 0.06440797462920408),\n",
       " ('recruiter', 0.06440797462920408),\n",
       " ('permanent', 0.05873713395636262),\n",
       " ('copy', 0.054713608467526514),\n",
       " ('guide', 0.054713608467526514)]"
      ]
     },
     "execution_count": 76,
     "metadata": {},
     "output_type": "execute_result"
    }
   ],
   "source": [
    "top_n_words[6][:10]"
   ]
  },
  {
   "cell_type": "code",
   "execution_count": 74,
   "metadata": {},
   "outputs": [
    {
     "data": {
      "text/plain": [
       "array([ 6,  3, -1,  2,  2,  3,  2,  2, -1, -1,  2,  1,  2,  5,  6, -1, -1,\n",
       "        6,  1,  2,  4,  2,  6,  2,  2, -1,  1,  4,  2,  3,  2,  4, -1,  1,\n",
       "       -1,  2,  2,  1,  4, -1,  2,  2,  1,  2, -1,  2,  2,  2,  2,  6,  2,\n",
       "        2,  2,  2,  1,  4,  5, -1,  2,  5, -1, -1,  6, -1,  2,  2,  1,  2,\n",
       "       -1,  2,  6,  2,  4,  2,  2,  4,  2,  2,  2,  2,  2,  6,  2,  2,  2,\n",
       "        6,  1,  2,  5,  2,  1,  2,  2,  2,  2,  2,  4,  4,  2,  2,  2,  1,\n",
       "       -1,  1,  2, -1, -1,  1, -1,  3,  4, -1, -1,  2,  6,  2,  3,  1,  5,\n",
       "        2,  4,  2, -1,  2,  2,  0, -1, -1,  4,  6, -1, -1,  2,  1,  2,  2,\n",
       "        2,  2,  2,  2,  2,  2, -1,  0,  2,  4,  2,  2,  2,  5,  5, -1,  2,\n",
       "        2,  2,  2,  2,  2,  6,  2,  2,  2,  2,  2,  2, -1,  4, -1, -1,  2,\n",
       "        2, -1,  2,  2,  5, -1,  4,  2,  2,  2,  2,  0,  0,  2,  2,  2, -1,\n",
       "       -1,  2,  2,  4, -1,  1,  2,  0,  2, -1,  5,  1,  1])"
      ]
     },
     "execution_count": 74,
     "metadata": {},
     "output_type": "execute_result"
    }
   ],
   "source": [
    "cluster.labels_"
   ]
  },
  {
   "cell_type": "code",
   "execution_count": null,
   "metadata": {},
   "outputs": [],
   "source": [
    "top_n_wordsa"
   ]
  },
  {
   "cell_type": "code",
   "execution_count": null,
   "metadata": {},
   "outputs": [],
   "source": [
    "# import hdbscan\n",
    "# cluster = hdbscan.HDBSCAN(min_cluster_size=15,\n",
    "#                           metric='euclidean',\n",
    "#                           cluster_selection_method='eom').fit(umap_embeddings)"
   ]
  }
 ],
 "metadata": {
  "interpreter": {
   "hash": "8dd11822f1ddc5a64d0327cf81fca5c56dbea1493ec0e80ff9699f37a027b0e2"
  },
  "kernelspec": {
   "display_name": "Python 3.7.10 64-bit ('clustering': conda)",
   "name": "python3"
  },
  "language_info": {
   "codemirror_mode": {
    "name": "ipython",
    "version": 3
   },
   "file_extension": ".py",
   "mimetype": "text/x-python",
   "name": "python",
   "nbconvert_exporter": "python",
   "pygments_lexer": "ipython3",
   "version": "3.7.10"
  },
  "orig_nbformat": 4
 },
 "nbformat": 4,
 "nbformat_minor": 2
}